{
 "cells": [
  {
   "cell_type": "code",
   "execution_count": 1,
   "id": "a7e9e9f2",
   "metadata": {},
   "outputs": [],
   "source": [
    "import pandas as pd\n",
    "import numpy as np"
   ]
  },
  {
   "cell_type": "code",
   "execution_count": 2,
   "id": "035de364",
   "metadata": {},
   "outputs": [],
   "source": [
    "shifts=[\"Float\",\"0\",\"-1\",\"Security\",\"Greet\",\"Tickets\",\"Lunch\",\"Coro\",\"Trike\",\"Gallery\"]\n",
    "people=[\"Brian\",\"Ross\",\"Will\"]"
   ]
  },
  {
   "cell_type": "code",
   "execution_count": 35,
   "id": "5dd80a3a",
   "metadata": {},
   "outputs": [
    {
     "name": "stdout",
     "output_type": "stream",
     "text": [
      "05:00 PM\n"
     ]
    }
   ],
   "source": [
    "def minutes_to_hhmm(mins):\n",
    "    hours = mins//60\n",
    "    minutes = mins%60\n",
    "    return f'{hours:02d}:{minutes:02d}'\n",
    "\n",
    "def minutes_to_12h(mins):\n",
    "    hours = mins//60\n",
    "    minutes = mins%60\n",
    "    if hours == 0:\n",
    "        h = \"12\"\n",
    "        ampm = \"AM\"\n",
    "    elif hours < 12:\n",
    "        h = f'{hours:02d}'\n",
    "        ampm = \"AM\"\n",
    "    else:\n",
    "        h2 = hours-12\n",
    "        h = f'{h2:02d}'\n",
    "        ampm = \"PM\"\n",
    "    \n",
    "    return h + f':{minutes:02d}' + ' ' + ampm\n",
    "\n",
    "print(minutes_to_12h(1020))"
   ]
  },
  {
   "cell_type": "code",
   "execution_count": 4,
   "id": "9578f752",
   "metadata": {},
   "outputs": [],
   "source": [
    "# At each time and person, store a shift\n",
    "start_time = 600\n",
    "end_time = 1020\n",
    "default_schedule = pd.DataFrame(\"Float\", index=range(start_time,end_time,30),columns=people)"
   ]
  },
  {
   "cell_type": "code",
   "execution_count": 16,
   "id": "9fbb4c3f",
   "metadata": {},
   "outputs": [
    {
     "data": {
      "text/plain": [
       "660"
      ]
     },
     "execution_count": 16,
     "metadata": {},
     "output_type": "execute_result"
    }
   ],
   "source": [
    "default_schedule.index[2]"
   ]
  },
  {
   "cell_type": "code",
   "execution_count": 19,
   "id": "a180cf2e",
   "metadata": {},
   "outputs": [
    {
     "name": "stdout",
     "output_type": "stream",
     "text": [
      "       Brian   Ross   Will\n",
      "600  Gallery  Float  Float\n",
      "630    Float  Float  Float\n",
      "660    Float  Float  Float\n",
      "690    Float  Float  Float\n",
      "720    Float  Float  Float\n",
      "750    Float  Float  Float\n",
      "780    Float  Float  Float\n",
      "810    Float  Float  Float\n",
      "840    Float  Float  Float\n",
      "870    Float  Float  Float\n",
      "900    Float  Float  Float\n",
      "930    Float  Float  Float\n",
      "960    Float  Float  Float\n",
      "990    Float  Float  Float\n"
     ]
    }
   ],
   "source": [
    "default_schedule['Brian'][600]=\"Gallery\"\n",
    "\n",
    "print(default_schedule)"
   ]
  },
  {
   "cell_type": "code",
   "execution_count": 6,
   "id": "a0f53911",
   "metadata": {},
   "outputs": [],
   "source": [
    "from PyQt5.QtWidgets import QApplication\n",
    "app = QApplication([])"
   ]
  },
  {
   "cell_type": "code",
   "execution_count": 36,
   "id": "3ebf05c1",
   "metadata": {},
   "outputs": [],
   "source": [
    "from PyQt5.QtWidgets import QWidget, QMainWindow, QComboBox, QLabel, QPushButton\n",
    "from PyQt5.QtWidgets import QVBoxLayout, QHBoxLayout, QGridLayout\n",
    "from PyQt5.QtWidgets import QToolBar, QAction, QStatusBar\n",
    "from PyQt5.QtGui import QIcon\n",
    "from PyQt5.QtCore import Qt"
   ]
  },
  {
   "cell_type": "code",
   "execution_count": 37,
   "id": "84fe0a05",
   "metadata": {},
   "outputs": [],
   "source": [
    "from functools import partial\n",
    "\n",
    "class CentralGrid(QWidget):\n",
    "    def __init__(self, schedule, shifts):\n",
    "        super(CentralGrid, self).__init__()\n",
    "        \n",
    "        self.schedule = schedule\n",
    "        self.shifts = shifts\n",
    "        \n",
    "        layout = QGridLayout()\n",
    "        \n",
    "        # Names at the top\n",
    "        for i in range(schedule.shape[1]):\n",
    "            layout.addWidget(QLabel(schedule.columns[i]), 0, i+1)\n",
    "        \n",
    "        # Times at the left\n",
    "        for i in range(schedule.shape[0]):\n",
    "            layout.addWidget(QLabel(minutes_to_12h(schedule.index[i])),i+1,0)\n",
    "        \n",
    "        # Dropdowns in the middle\n",
    "        for i in range(schedule.shape[0]):\n",
    "            time = schedule.index[i]\n",
    "            for j in range(schedule.shape[1]):\n",
    "                person = schedule.columns[j]\n",
    "                \n",
    "                widget = QComboBox()\n",
    "                widget.addItems(shifts)\n",
    "                widget.addItem(\"Other\") # TODO add a few extra features to this -- probably separate into its own class\n",
    "                \n",
    "                # Make the dropdown show the correct shift\n",
    "                current_shift = self.schedule[person][time]\n",
    "                if current_shift in self.shifts:\n",
    "                    widget.setCurrentText(current_shift)\n",
    "                else:\n",
    "                    widget.setCurrentText(\"Other\") #TODO make this a better feature\n",
    "                \n",
    "                widget.currentTextChanged.connect(partial(self.updateSchedule,schedule.columns[j],schedule.index[i]))\n",
    "                layout.addWidget(widget, i+1, j+1)\n",
    "        \n",
    "        main_height = schedule.shape[0]+1\n",
    "        main_width = schedule.shape[1]+1\n",
    "        \n",
    "        # TODO: Add shift counting functionality by row\n",
    "        # counters = [QLabel(\"\") for i in range(schedule.shape[1])]\n",
    "        \n",
    "        # TEMPORARY: add a \"print\" button in the top-left\n",
    "        # Maybe change this to a save button later?\n",
    "        widget = QPushButton(\"Print\")\n",
    "        widget.pressed.connect(self.printSchedule)\n",
    "        layout.addWidget(widget, 0, 0)\n",
    "        \n",
    "        self.setLayout(layout)\n",
    "    \n",
    "    def updateSchedule(self, person, time, shift):\n",
    "        self.schedule[person][time] = shift\n",
    "        # TODO add part about \n",
    "        \n",
    "    def printSchedule(self):\n",
    "        print(self.schedule)"
   ]
  },
  {
   "cell_type": "code",
   "execution_count": 39,
   "id": "973e8508",
   "metadata": {},
   "outputs": [
    {
     "data": {
      "text/plain": [
       "0"
      ]
     },
     "execution_count": 39,
     "metadata": {},
     "output_type": "execute_result"
    }
   ],
   "source": [
    "class MainWindow(QMainWindow):\n",
    "    def __init__(self):\n",
    "        super(MainWindow, self).__init__()\n",
    "        \n",
    "        self.setWindowTitle(\"MoMath Schedule Manager\")\n",
    "        \n",
    "        widget = CentralGrid(default_schedule, shifts)\n",
    "        \n",
    "        self.setCentralWidget(widget)\n",
    "\n",
    "w = MainWindow()\n",
    "w.show()\n",
    "\n",
    "app.exec()"
   ]
  },
  {
   "cell_type": "code",
   "execution_count": null,
   "id": "ff356781",
   "metadata": {},
   "outputs": [],
   "source": []
  }
 ],
 "metadata": {
  "kernelspec": {
   "display_name": "Python 3 (ipykernel)",
   "language": "python",
   "name": "python3"
  },
  "language_info": {
   "codemirror_mode": {
    "name": "ipython",
    "version": 3
   },
   "file_extension": ".py",
   "mimetype": "text/x-python",
   "name": "python",
   "nbconvert_exporter": "python",
   "pygments_lexer": "ipython3",
   "version": "3.11.3"
  }
 },
 "nbformat": 4,
 "nbformat_minor": 5
}
