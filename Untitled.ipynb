{
 "cells": [
  {
   "cell_type": "code",
   "execution_count": 2,
   "id": "a7e9e9f2",
   "metadata": {},
   "outputs": [],
   "source": [
    "import pandas as pd\n",
    "import numpy as np"
   ]
  },
  {
   "cell_type": "code",
   "execution_count": 3,
   "id": "035de364",
   "metadata": {},
   "outputs": [],
   "source": [
    "shifts=[\"None\",\"Float\",\"0\",\"-1\",\"Security\",\"Greet\",\"Tickets\",\"Lunch\",\"Coro\",\"Trike\",\"Gallery\"]\n",
    "people=[\"Brian\",\"Ross\",\"Will\",\"Nolan\",\"Sook\"]"
   ]
  },
  {
   "cell_type": "code",
   "execution_count": 4,
   "id": "5dd80a3a",
   "metadata": {},
   "outputs": [
    {
     "name": "stdout",
     "output_type": "stream",
     "text": [
      "12:00 PM\n"
     ]
    }
   ],
   "source": [
    "def minutes_to_hhmm(mins):\n",
    "    hours = mins//60\n",
    "    minutes = mins%60\n",
    "    return f'{hours:02d}:{minutes:02d}'\n",
    "\n",
    "def minutes_to_12h(mins):\n",
    "    hours = mins//60\n",
    "    minutes = mins%60\n",
    "    if hours == 0:\n",
    "        h = \"12\"\n",
    "        ampm = \"AM\"\n",
    "    elif hours < 12:\n",
    "        h = f'{hours:02d}'\n",
    "        ampm = \"AM\"\n",
    "    elif hours == 12:\n",
    "        h = \"12\"\n",
    "        ampm = \"PM\"\n",
    "    else:\n",
    "        h2 = hours-12\n",
    "        h = f'{h2:02d}'\n",
    "        ampm = \"PM\"\n",
    "    \n",
    "    return h + f':{minutes:02d}' + ' ' + ampm\n",
    "\n",
    "print(minutes_to_12h(720))"
   ]
  },
  {
   "cell_type": "code",
   "execution_count": 5,
   "id": "9578f752",
   "metadata": {},
   "outputs": [],
   "source": [
    "# At each time and person, store a shift\n",
    "start_time = 600\n",
    "end_time = 1020\n",
    "default_schedule = pd.DataFrame(\"Float\", index=range(start_time,end_time,30),columns=people)"
   ]
  },
  {
   "cell_type": "code",
   "execution_count": 6,
   "id": "9fbb4c3f",
   "metadata": {},
   "outputs": [
    {
     "name": "stdout",
     "output_type": "stream",
     "text": [
      "660\n",
      "[0, 1]\n"
     ]
    }
   ],
   "source": [
    "print(default_schedule.index[2])\n",
    "print([i for i in range(2)])"
   ]
  },
  {
   "cell_type": "code",
   "execution_count": 7,
   "id": "f1020472",
   "metadata": {},
   "outputs": [
    {
     "name": "stdout",
     "output_type": "stream",
     "text": [
      "       Brian   Ross   Will  Nolan   Sook\n",
      "600  Gallery  Float  Float  Float  Float\n",
      "630    Float  Float  Float  Float  Float\n",
      "660    Float  Float  Float  Float  Float\n",
      "690    Float  Float  Float  Float  Float\n",
      "720    Float  Float  Float  Float  Float\n",
      "750    Float  Float  Float  Float  Float\n",
      "780    Float  Float  Float  Float  Float\n",
      "810    Float  Float  Float  Float  Float\n",
      "840    Float  Float  Float  Float  Float\n",
      "870    Float  Float  Float  Float  Float\n",
      "900    Float  Float  Float  Float  Float\n",
      "930    Float  Float  Float  Float  Float\n",
      "960    Float  Float  Float  Float  Float\n",
      "990    Float  Float  Float  Float  Float\n"
     ]
    }
   ],
   "source": [
    "default_schedule['Brian'][600]=\"Gallery\"\n",
    "\n",
    "print(default_schedule)"
   ]
  },
  {
   "cell_type": "code",
   "execution_count": 8,
   "id": "a0f53911",
   "metadata": {},
   "outputs": [],
   "source": [
    "from PyQt5.QtWidgets import QApplication\n",
    "app = QApplication([])"
   ]
  },
  {
   "cell_type": "code",
   "execution_count": 9,
   "id": "a6828d3b",
   "metadata": {},
   "outputs": [],
   "source": [
    "from PyQt5.QtWidgets import QWidget, QMainWindow, QComboBox, QLabel, QPushButton, QLineEdit\n",
    "from PyQt5.QtWidgets import QVBoxLayout, QHBoxLayout, QGridLayout\n",
    "from PyQt5.QtWidgets import QToolBar, QAction, QStatusBar\n",
    "from PyQt5.QtGui import QIcon, QPalette, QColor\n",
    "from PyQt5.QtCore import Qt, pyqtSignal"
   ]
  },
  {
   "cell_type": "code",
   "execution_count": 39,
   "id": "beda739b",
   "metadata": {},
   "outputs": [],
   "source": [
    "from functools import partial\n",
    "\n",
    "class ShiftSelector(QWidget):\n",
    "    shiftChanged = pyqtSignal(str)\n",
    "    # textboxChanged = pyqtSignal(str)\n",
    "    durationChanged = pyqtSignal(str)\n",
    "    \n",
    "    def __init__(self, person, start_time, shifts, durations):\n",
    "        super(ShiftSelector, self).__init__()\n",
    "        \n",
    "        self.person = person\n",
    "        self.start_time = start_time\n",
    "        self.shifts = shifts\n",
    "        self.durations = durations\n",
    "        \n",
    "        self.active = True\n",
    "        \n",
    "        # shift dropdown\n",
    "        shift_box = QComboBox()\n",
    "        shift_box.addItems(shifts)\n",
    "        shift_box.addItem(\"Other\")\n",
    "        \n",
    "        shift_box.currentTextChanged.connect(self.shift_changed)\n",
    "        \n",
    "        self.shift_box = shift_box\n",
    "        \n",
    "        # other shift textbox\n",
    "        text_box = QLineEdit()\n",
    "        text_box.setVisible(False)\n",
    "        \n",
    "        text_box.textChanged.connect(self.textbox_changed)\n",
    "        \n",
    "        self.text_box = text_box\n",
    "        \n",
    "        # duration dropdown\n",
    "        duration_box = QComboBox()\n",
    "        duration_box.addItems(durations)\n",
    "        \n",
    "        duration_box.currentTextChanged.connect(self.duration_changed)\n",
    "        \n",
    "        self.duration_box = duration_box\n",
    "        \n",
    "        # layout\n",
    "        leftSide = QVBoxLayout()\n",
    "        leftSide.addWidget(shift_box)\n",
    "        leftSide.addWidget(text_box)\n",
    "        leftSide.setContentsMargins(5,5,5,5)\n",
    "        leftWidget = QWidget()\n",
    "        leftWidget.setLayout(leftSide)\n",
    "        \n",
    "        rightSide = QVBoxLayout()\n",
    "        rightSide.addWidget(QLabel(\"Duration\"))\n",
    "        rightSide.addWidget(duration_box)\n",
    "        rightSide.setContentsMargins(0,5,5,5)\n",
    "        rightWidget = QWidget()\n",
    "        rightWidget.setLayout(rightSide)\n",
    "        \n",
    "        mainLayout = QHBoxLayout()\n",
    "        mainLayout.addWidget(leftWidget)\n",
    "        mainLayout.addWidget(rightWidget)\n",
    "        mainLayout.setContentsMargins(0,0,0,0)\n",
    "        \n",
    "        self.mainLayout = mainLayout\n",
    "        self.simpleLayout = leftSide\n",
    "        \n",
    "        self.setLayout(self.simpleLayout)\n",
    "        \n",
    "        self.setAutoFillBackground(True)\n",
    "        palette = self.palette()\n",
    "        palette.setColor(QPalette.Window, QColor(\"white\"))\n",
    "        self.setPalette(palette)\n",
    "    \n",
    "    # TODO: add color changing to shift_changed/textbox_changed \n",
    "    \n",
    "    def set_shift(self,shift):\n",
    "        if shift in self.shifts:\n",
    "            self.shift_box.setCurrentText(shift)\n",
    "        else:\n",
    "            self.shift_box.setCurrentText(\"Other\")\n",
    "            self.text_box.setText(shift)\n",
    "    \n",
    "    def shift_changed(self, shift):\n",
    "        if shift == \"Other\":\n",
    "            self.text_box.setEnabled(True)\n",
    "            self.text_box.setVisible(True)\n",
    "        else:\n",
    "            self.text_box.setEnabled(False)\n",
    "            self.text_box.setVisible(False)\n",
    "            self.shiftChanged.emit(shift)\n",
    "            \n",
    "    def textbox_changed(self, text):\n",
    "        self.shiftChanged.emit(text)\n",
    "    \n",
    "    def duration_changed(self, duration):\n",
    "        self.durationChanged.emit(duration)"
   ]
  },
  {
   "cell_type": "code",
   "execution_count": 42,
   "id": "84fe0a05",
   "metadata": {},
   "outputs": [],
   "source": [
    "class CentralGrid(QWidget):\n",
    "    def __init__(self, schedule, shifts):\n",
    "        super(CentralGrid, self).__init__()\n",
    "        \n",
    "        self.schedule = schedule\n",
    "        self.shifts = shifts\n",
    "        \n",
    "        layout = QGridLayout()\n",
    "        widget_grid = dict()\n",
    "        \n",
    "        # Names at the top\n",
    "        for i in range(schedule.shape[1]):\n",
    "            layout.addWidget(QLabel(schedule.columns[i]), 0, i+1)\n",
    "            widget_grid[schedule.columns[i]] = dict() # initialize the interior of the widget storage\n",
    "        \n",
    "        # Times at the left\n",
    "        for i in range(schedule.shape[0]):\n",
    "            layout.addWidget(QLabel(minutes_to_12h(schedule.index[i])),i+1,0)\n",
    "        \n",
    "        # Dropdowns in the middle\n",
    "        for i in range(schedule.shape[0]):\n",
    "            time = schedule.index[i]\n",
    "            \n",
    "            durations = [repr(30+schedule.index[k]-time) for k in range(i,schedule.shape[0])] # this is very scuffed lol\n",
    "            for j in range(schedule.shape[1]):\n",
    "                person = schedule.columns[j]\n",
    "                \n",
    "                widget = ShiftSelector(person, time, shifts, durations)\n",
    "                widget.set_shift(self.schedule[person][time])\n",
    "                \n",
    "                widget.shiftChanged.connect(partial(self.updateSchedule,schedule.columns[j],schedule.index[i]))\n",
    "                layout.addWidget(widget, i+1, j+1)\n",
    "                widget_grid[person][time] = widget\n",
    "        \n",
    "        main_height = schedule.shape[0]+1\n",
    "        main_width = schedule.shape[1]+1\n",
    "        \n",
    "        # Column shift counters\n",
    "        colCounters = {p:QLabel(\"\") for p in schedule.columns} # TODO just make the list of people an input to the grid\n",
    "        colShift = ShiftSelector(None, None, shifts, [])\n",
    "        # colShift.shiftChanged.connect(updateCounters)\n",
    "        layout.addWidget(colShift, main_height, 0)\n",
    "        for i in range(schedule.shape[1]):\n",
    "            layout.addWidget(colCounters[schedule.columns[i]],main_height,i+1)\n",
    "            \n",
    "        # Row shift counters\n",
    "        rowCounters = {t:QLabel(\"\") for t in schedule.index} # TODO make the list of times an input as well?\n",
    "        rowShift = ShiftSelector(None, None, shifts, [])\n",
    "        # colShift.shiftChanged.connect(updateCounters)\n",
    "        layout.addWidget(rowShift, 0, main_width)\n",
    "        for i in range(schedule.shape[0]):\n",
    "            layout.addWidget(rowCounters[schedule.index[i]],i+1,main_width)\n",
    "        \n",
    "        # TEMPORARY: add a \"print\" button in the top-left\n",
    "        # Maybe change this to a save button later?\n",
    "        widget = QPushButton(\"Print\")\n",
    "        widget.pressed.connect(self.printSchedule)\n",
    "        layout.addWidget(widget, 0, 0)\n",
    "        \n",
    "        layout.setSpacing(5)\n",
    "        \n",
    "        self.layout = layout\n",
    "        self.widget_grid = widget_grid\n",
    "        self.setLayout(layout)\n",
    "    \n",
    "    def updateSchedule(self, person, time, shift):\n",
    "        self.schedule[person][time] = shift\n",
    "        # TODO add something about durations?\n",
    "        \n",
    "    # def updateCounters(self):\n",
    "    #     for \n",
    "        \n",
    "    def printSchedule(self):\n",
    "        print(self.schedule)"
   ]
  },
  {
   "cell_type": "code",
   "execution_count": 43,
   "id": "973e8508",
   "metadata": {},
   "outputs": [
    {
     "data": {
      "text/plain": [
       "0"
      ]
     },
     "execution_count": 43,
     "metadata": {},
     "output_type": "execute_result"
    }
   ],
   "source": [
    "class MainWindow(QMainWindow):\n",
    "    def __init__(self):\n",
    "        super(MainWindow, self).__init__()\n",
    "        \n",
    "        self.setWindowTitle(\"MoMath Schedule Manager\")\n",
    "        \n",
    "        widget = CentralGrid(default_schedule, shifts)\n",
    "        \n",
    "        self.setCentralWidget(widget)\n",
    "        # TODO change default margins\n",
    "w = MainWindow()\n",
    "w.show()\n",
    "\n",
    "app.exec()"
   ]
  },
  {
   "cell_type": "code",
   "execution_count": 44,
   "id": "01488aa7",
   "metadata": {},
   "outputs": [],
   "source": [
    "# Condition format: (1) every P [from list] has at least N S; (2) every T [in interval/list] has at least N S"
   ]
  },
  {
   "cell_type": "code",
   "execution_count": null,
   "id": "cbaa440f",
   "metadata": {},
   "outputs": [],
   "source": []
  }
 ],
 "metadata": {
  "kernelspec": {
   "display_name": "Python 3 (ipykernel)",
   "language": "python",
   "name": "python3"
  },
  "language_info": {
   "codemirror_mode": {
    "name": "ipython",
    "version": 3
   },
   "file_extension": ".py",
   "mimetype": "text/x-python",
   "name": "python",
   "nbconvert_exporter": "python",
   "pygments_lexer": "ipython3",
   "version": "3.11.3"
  }
 },
 "nbformat": 4,
 "nbformat_minor": 5
}
